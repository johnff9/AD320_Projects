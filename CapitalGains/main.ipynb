{
 "cells": [
  {
   "cell_type": "code",
   "execution_count": 8,
   "metadata": {},
   "outputs": [
    {
     "ename": "NameError",
     "evalue": "name 'LedgerEntry' is not defined",
     "output_type": "error",
     "traceback": [
      "\u001b[0;31m---------------------------------------------------------------------------\u001b[0m",
      "\u001b[0;31mNameError\u001b[0m                                 Traceback (most recent call last)",
      "Cell \u001b[0;32mIn[8], line 46\u001b[0m\n\u001b[1;32m     43\u001b[0m     ledger\u001b[39m.\u001b[39mdisplay_ledger()\n\u001b[1;32m     45\u001b[0m \u001b[39mif\u001b[39;00m \u001b[39m__name__\u001b[39m \u001b[39m==\u001b[39m \u001b[39m\"\u001b[39m\u001b[39m__main__\u001b[39m\u001b[39m\"\u001b[39m:\n\u001b[0;32m---> 46\u001b[0m     main()\n",
      "Cell \u001b[0;32mIn[8], line 8\u001b[0m, in \u001b[0;36mmain\u001b[0;34m()\u001b[0m\n\u001b[1;32m      5\u001b[0m ledger \u001b[39m=\u001b[39m StockLedger()\n\u001b[1;32m      7\u001b[0m \u001b[39m# Initial buys\u001b[39;00m\n\u001b[0;32m----> 8\u001b[0m ledger\u001b[39m.\u001b[39;49mbuy(\u001b[39m\"\u001b[39;49m\u001b[39mAAPL\u001b[39;49m\u001b[39m\"\u001b[39;49m, \u001b[39m20\u001b[39;49m, \u001b[39m45.0\u001b[39;49m)\n\u001b[1;32m      9\u001b[0m ledger\u001b[39m.\u001b[39mbuy(\u001b[39m\"\u001b[39m\u001b[39mAAPL\u001b[39m\u001b[39m\"\u001b[39m, \u001b[39m20\u001b[39m, \u001b[39m75.0\u001b[39m)\n\u001b[1;32m     10\u001b[0m ledger\u001b[39m.\u001b[39mbuy(\u001b[39m\"\u001b[39m\u001b[39mMSFT\u001b[39m\u001b[39m\"\u001b[39m, \u001b[39m20\u001b[39m, \u001b[39m95.0\u001b[39m)\n",
      "File \u001b[0;32m~/Documents/Data Structures/AD320_Projects/CapitalGains/stock_ledger.py:7\u001b[0m, in \u001b[0;36mStockLedger.buy\u001b[0;34m(self, stock_symbol, shares_bought, price_per_share)\u001b[0m\n\u001b[1;32m      5\u001b[0m \u001b[39mdef\u001b[39;00m \u001b[39mbuy\u001b[39m(\u001b[39mself\u001b[39m, stock_symbol, shares_bought, price_per_share):\n\u001b[1;32m      6\u001b[0m     \u001b[39mif\u001b[39;00m stock_symbol \u001b[39mnot\u001b[39;00m \u001b[39min\u001b[39;00m \u001b[39mself\u001b[39m\u001b[39m.\u001b[39mledger:\n\u001b[0;32m----> 7\u001b[0m         \u001b[39mself\u001b[39m\u001b[39m.\u001b[39mledger[stock_symbol] \u001b[39m=\u001b[39m LedgerEntry(stock_symbol)\n\u001b[1;32m      8\u001b[0m     new_purchase \u001b[39m=\u001b[39m StockPurchase(price_per_share, shares_bought)\n\u001b[1;32m      9\u001b[0m     \u001b[39mself\u001b[39m\u001b[39m.\u001b[39mledger[stock_symbol]\u001b[39m.\u001b[39madd_purchase(new_purchase)\n",
      "\u001b[0;31mNameError\u001b[0m: name 'LedgerEntry' is not defined"
     ]
    }
   ],
   "source": [
    "from stock_ledger import StockLedger\n",
    "\n",
    "\n",
    "def main():\n",
    "    ledger = StockLedger()\n",
    "\n",
    "    # Initial buys\n",
    "    ledger.buy(\"AAPL\", 20, 45.0)\n",
    "    ledger.buy(\"AAPL\", 20, 75.0)\n",
    "    ledger.buy(\"MSFT\", 20, 95.0)\n",
    "    ledger.display_ledger()\n",
    "\n",
    "    # Selling AAPL shares\n",
    "    ledger.sell(\"AAPL\", 30, 65.0)\n",
    "    ledger.display_ledger()\n",
    "\n",
    "    ledger.sell(\"AAPL\", 10, 65.0)\n",
    "    ledger.display_ledger()\n",
    "\n",
    "    # More buys\n",
    "    ledger.buy(\"AAPL\", 100, 20.0)\n",
    "    ledger.buy(\"AAPL\", 20, 24.0)\n",
    "    ledger.buy(\"TSLA\", 200, 36.0)\n",
    "    ledger.display_ledger()\n",
    "\n",
    "    # Additional sells\n",
    "    ledger.sell(\"AAPL\", 10, 65.0)\n",
    "    ledger.display_ledger()\n",
    "\n",
    "    ledger.sell(\"TSLA\", 150, 30.0)\n",
    "    ledger.display_ledger()\n",
    "\n",
    "    # Buying more MSFT\n",
    "    ledger.buy(\"MSFT\", 5, 60.0)\n",
    "    ledger.buy(\"MSFT\", 5, 70.0)\n",
    "    ledger.display_ledger()\n",
    "\n",
    "    # Selling more MSFT\n",
    "    ledger.sell(\"MSFT\", 4, 30.0)\n",
    "    ledger.display_ledger()\n",
    "\n",
    "    ledger.sell(\"MSFT\", 2, 30.0)\n",
    "    ledger.display_ledger()\n",
    "\n",
    "if __name__ == \"__main__\":\n",
    "    main()\n"
   ]
  }
 ],
 "metadata": {
  "kernelspec": {
   "display_name": "Python 3",
   "language": "python",
   "name": "python3"
  },
  "language_info": {
   "codemirror_mode": {
    "name": "ipython",
    "version": 3
   },
   "file_extension": ".py",
   "mimetype": "text/x-python",
   "name": "python",
   "nbconvert_exporter": "python",
   "pygments_lexer": "ipython3",
   "version": "3.11.3"
  },
  "orig_nbformat": 4
 },
 "nbformat": 4,
 "nbformat_minor": 2
}
